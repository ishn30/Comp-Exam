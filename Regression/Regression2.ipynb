{
  "nbformat": 4,
  "nbformat_minor": 0,
  "metadata": {
    "kernelspec": {
      "display_name": "Python 3",
      "language": "python",
      "name": "python3"
    },
    "language_info": {
      "codemirror_mode": {
        "name": "ipython",
        "version": 3
      },
      "file_extension": ".py",
      "mimetype": "text/x-python",
      "name": "python",
      "nbconvert_exporter": "python",
      "pygments_lexer": "ipython3",
      "version": "3.6.3"
    },
    "colab": {
      "name": "Regression2.ipynb",
      "provenance": [],
      "collapsed_sections": [],
      "include_colab_link": true
    }
  },
  "cells": [
    {
      "cell_type": "markdown",
      "metadata": {
        "id": "view-in-github",
        "colab_type": "text"
      },
      "source": [
        "<a href=\"https://colab.research.google.com/github/ishn30/Final-Prep-2/blob/main/Regression/Regression2.ipynb\" target=\"_parent\"><img src=\"https://colab.research.google.com/assets/colab-badge.svg\" alt=\"Open In Colab\"/></a>"
      ]
    },
    {
      "cell_type": "markdown",
      "metadata": {
        "id": "VCn5ggyVhJgX"
      },
      "source": [
        "<h2 style='color:purple' align='center'>MLRM</h2>"
      ]
    },
    {
      "cell_type": "markdown",
      "metadata": {
        "id": "kk51VWfvhJga"
      },
      "source": [
        "<p><b>We have a dataset containing prices of used BMW cars. We are going to analyze this dataset\n",
        "and build a prediction function that can predict a price by taking mileage and age of the car\n",
        "as input. We will use sklearn train_test_split method to split training and testing dataset</b></p>"
      ]
    },
    {
      "cell_type": "code",
      "metadata": {
        "colab": {
          "base_uri": "https://localhost:8080/",
          "height": 203
        },
        "id": "jslFMuiChJgb",
        "outputId": "62a6074f-51d6-4847-c2f1-f63192ed445e"
      },
      "source": [
        "import pandas as pd\n",
        "df = pd.read_csv(\"https://raw.githubusercontent.com/ishn30/Final-Prep-2/main/Regression/carprices.csv\")\n",
        "df.head()"
      ],
      "execution_count": 2,
      "outputs": [
        {
          "output_type": "execute_result",
          "data": {
            "text/html": [
              "<div>\n",
              "<style scoped>\n",
              "    .dataframe tbody tr th:only-of-type {\n",
              "        vertical-align: middle;\n",
              "    }\n",
              "\n",
              "    .dataframe tbody tr th {\n",
              "        vertical-align: top;\n",
              "    }\n",
              "\n",
              "    .dataframe thead th {\n",
              "        text-align: right;\n",
              "    }\n",
              "</style>\n",
              "<table border=\"1\" class=\"dataframe\">\n",
              "  <thead>\n",
              "    <tr style=\"text-align: right;\">\n",
              "      <th></th>\n",
              "      <th>Mileage</th>\n",
              "      <th>Age(yrs)</th>\n",
              "      <th>Sell Price($)</th>\n",
              "    </tr>\n",
              "  </thead>\n",
              "  <tbody>\n",
              "    <tr>\n",
              "      <th>0</th>\n",
              "      <td>69000</td>\n",
              "      <td>6</td>\n",
              "      <td>18000</td>\n",
              "    </tr>\n",
              "    <tr>\n",
              "      <th>1</th>\n",
              "      <td>35000</td>\n",
              "      <td>3</td>\n",
              "      <td>34000</td>\n",
              "    </tr>\n",
              "    <tr>\n",
              "      <th>2</th>\n",
              "      <td>57000</td>\n",
              "      <td>5</td>\n",
              "      <td>26100</td>\n",
              "    </tr>\n",
              "    <tr>\n",
              "      <th>3</th>\n",
              "      <td>22500</td>\n",
              "      <td>2</td>\n",
              "      <td>40000</td>\n",
              "    </tr>\n",
              "    <tr>\n",
              "      <th>4</th>\n",
              "      <td>46000</td>\n",
              "      <td>4</td>\n",
              "      <td>31500</td>\n",
              "    </tr>\n",
              "  </tbody>\n",
              "</table>\n",
              "</div>"
            ],
            "text/plain": [
              "   Mileage  Age(yrs)  Sell Price($)\n",
              "0    69000         6          18000\n",
              "1    35000         3          34000\n",
              "2    57000         5          26100\n",
              "3    22500         2          40000\n",
              "4    46000         4          31500"
            ]
          },
          "metadata": {},
          "execution_count": 2
        }
      ]
    },
    {
      "cell_type": "code",
      "metadata": {
        "collapsed": true,
        "id": "IySCmSpXhJgd"
      },
      "source": [
        "import matplotlib.pyplot as plt\n",
        "%matplotlib inline"
      ],
      "execution_count": 4,
      "outputs": []
    },
    {
      "cell_type": "markdown",
      "metadata": {
        "id": "9RH6tDNyhJgd"
      },
      "source": [
        "**Car Mileage Vs Sell Price ($)**"
      ]
    },
    {
      "cell_type": "code",
      "metadata": {
        "scrolled": false,
        "colab": {
          "base_uri": "https://localhost:8080/",
          "height": 282
        },
        "id": "Fn_yTfnThJge",
        "outputId": "4f048d4c-fbb8-4145-8967-d5b774b194f3"
      },
      "source": [
        "plt.scatter(df['Mileage'],df['Sell Price($)'])"
      ],
      "execution_count": 5,
      "outputs": [
        {
          "output_type": "execute_result",
          "data": {
            "text/plain": [
              "<matplotlib.collections.PathCollection at 0x7f3c87177a10>"
            ]
          },
          "metadata": {},
          "execution_count": 5
        },
        {
          "output_type": "display_data",
          "data": {
            "image/png": "[encoded data removed]",
            "text/plain": [
              "<Figure size 432x288 with 1 Axes>"
            ]
          },
          "metadata": {
            "needs_background": "light"
          }
        }
      ]
    },
    {
      "cell_type": "markdown",
      "metadata": {
        "id": "iXXzufBYhJge"
      },
      "source": [
        "**Car Age Vs Sell Price ($)**"
      ]
    },
    {
      "cell_type": "code",
      "metadata": {
        "scrolled": true,
        "colab": {
          "base_uri": "https://localhost:8080/",
          "height": 282
        },
        "id": "Yi7JkQv4hJge",
        "outputId": "960984ec-a35c-401e-b649-ff03159a427b"
      },
      "source": [
        "plt.scatter(df['Age(yrs)'],df['Sell Price($)'])"
      ],
      "execution_count": 6,
      "outputs": [
        {
          "output_type": "execute_result",
          "data": {
            "text/plain": [
              "<matplotlib.collections.PathCollection at 0x7f3c86c68990>"
            ]
          },
          "metadata": {},
          "execution_count": 6
        },
        {
          "output_type": "display_data",
          "data": {
            "image/png": "[encoded data removed]",
            "text/plain": [
              "<Figure size 432x288 with 1 Axes>"
            ]
          },
          "metadata": {
            "needs_background": "light"
          }
        }
      ]
    },
    {
      "cell_type": "markdown",
      "metadata": {
        "id": "_FAxw1yGhJge"
      },
      "source": [
        "**Looking at above two scatter plots, using linear regression model makes sense as we can clearly see a linear relationship between our dependant (i.e. Sell Price) and independant variables (i.e. car age and car mileage)**"
      ]
    },
    {
      "cell_type": "markdown",
      "metadata": {
        "id": "15s08CZlhJgf"
      },
      "source": [
        "<p style='color:purple'><b>The approach we are going to use here is to split available data in two sets</b></p>\n",
        "    <ol>\n",
        "        <b>\n",
        "        <li>Training: We will train our model on this dataset</li>\n",
        "        <li>Testing: We will use this subset to make actual predictions using trained model</li>\n",
        "        </b>\n",
        "     </ol>\n",
        "<p style='color:purple'><b>The reason we don't use same training set for testing is because our model has seen those samples before, using same samples for making predictions might give us wrong impression about accuracy of our model. It is like you ask same questions in exam paper as you tought the students in the class.\n",
        "</b></p>"
      ]
    },
    {
      "cell_type": "code",
      "metadata": {
        "collapsed": true,
        "id": "iH3cP9cahJgf"
      },
      "source": [
        "X = df[['Mileage','Age(yrs)']]"
      ],
      "execution_count": 7,
      "outputs": []
    },
    {
      "cell_type": "code",
      "metadata": {
        "collapsed": true,
        "id": "EXwmfPduhJgg"
      },
      "source": [
        "y = df['Sell Price($)']"
      ],
      "execution_count": 8,
      "outputs": []
    },
    {
      "cell_type": "code",
      "metadata": {
        "colab": {
          "base_uri": "https://localhost:8080/"
        },
        "id": "AMAAP1D2hJgg",
        "outputId": "258eb405-8e09-4e3f-8737-f7ae0201a4a3"
      },
      "source": [
        "import statsmodels.api as sm\n",
        "from sklearn.model_selection import train_test_split\n",
        "\n",
        "X = sm.add_constant( df[['Mileage','Age(yrs)']] )\n",
        "Y = df['Sell Price($)']\n",
        "X_train, X_test, y_train, y_test = train_test_split(X,y,test_size=0.3) "
      ],
      "execution_count": 9,
      "outputs": [
        {
          "output_type": "stream",
          "name": "stderr",
          "text": [
            "/usr/local/lib/python3.7/dist-packages/statsmodels/tools/_testing.py:19: FutureWarning: pandas.util.testing is deprecated. Use the functions in the public API at pandas.testing instead.\n",
            "  import pandas.util.testing as tm\n"
          ]
        }
      ]
    },
    {
      "cell_type": "code",
      "metadata": {
        "scrolled": true,
        "colab": {
          "base_uri": "https://localhost:8080/",
          "height": 480
        },
        "id": "myiUfV-3hJgg",
        "outputId": "20aabf5c-ca43-47b8-9bb6-1e83481c2269"
      },
      "source": [
        "X_train"
      ],
      "execution_count": 10,
      "outputs": [
        {
          "output_type": "execute_result",
          "data": {
            "text/html": [
              "<div>\n",
              "<style scoped>\n",
              "    .dataframe tbody tr th:only-of-type {\n",
              "        vertical-align: middle;\n",
              "    }\n",
              "\n",
              "    .dataframe tbody tr th {\n",
              "        vertical-align: top;\n",
              "    }\n",
              "\n",
              "    .dataframe thead th {\n",
              "        text-align: right;\n",
              "    }\n",
              "</style>\n",
              "<table border=\"1\" class=\"dataframe\">\n",
              "  <thead>\n",
              "    <tr style=\"text-align: right;\">\n",
              "      <th></th>\n",
              "      <th>const</th>\n",
              "      <th>Mileage</th>\n",
              "      <th>Age(yrs)</th>\n",
              "    </tr>\n",
              "  </thead>\n",
              "  <tbody>\n",
              "    <tr>\n",
              "      <th>14</th>\n",
              "      <td>1.0</td>\n",
              "      <td>82450</td>\n",
              "      <td>7</td>\n",
              "    </tr>\n",
              "    <tr>\n",
              "      <th>5</th>\n",
              "      <td>1.0</td>\n",
              "      <td>59000</td>\n",
              "      <td>5</td>\n",
              "    </tr>\n",
              "    <tr>\n",
              "      <th>17</th>\n",
              "      <td>1.0</td>\n",
              "      <td>69000</td>\n",
              "      <td>5</td>\n",
              "    </tr>\n",
              "    <tr>\n",
              "      <th>7</th>\n",
              "      <td>1.0</td>\n",
              "      <td>72000</td>\n",
              "      <td>6</td>\n",
              "    </tr>\n",
              "    <tr>\n",
              "      <th>3</th>\n",
              "      <td>1.0</td>\n",
              "      <td>22500</td>\n",
              "      <td>2</td>\n",
              "    </tr>\n",
              "    <tr>\n",
              "      <th>0</th>\n",
              "      <td>1.0</td>\n",
              "      <td>69000</td>\n",
              "      <td>6</td>\n",
              "    </tr>\n",
              "    <tr>\n",
              "      <th>10</th>\n",
              "      <td>1.0</td>\n",
              "      <td>83000</td>\n",
              "      <td>7</td>\n",
              "    </tr>\n",
              "    <tr>\n",
              "      <th>2</th>\n",
              "      <td>1.0</td>\n",
              "      <td>57000</td>\n",
              "      <td>5</td>\n",
              "    </tr>\n",
              "    <tr>\n",
              "      <th>16</th>\n",
              "      <td>1.0</td>\n",
              "      <td>28000</td>\n",
              "      <td>2</td>\n",
              "    </tr>\n",
              "    <tr>\n",
              "      <th>19</th>\n",
              "      <td>1.0</td>\n",
              "      <td>52000</td>\n",
              "      <td>5</td>\n",
              "    </tr>\n",
              "    <tr>\n",
              "      <th>6</th>\n",
              "      <td>1.0</td>\n",
              "      <td>52000</td>\n",
              "      <td>5</td>\n",
              "    </tr>\n",
              "    <tr>\n",
              "      <th>11</th>\n",
              "      <td>1.0</td>\n",
              "      <td>79000</td>\n",
              "      <td>7</td>\n",
              "    </tr>\n",
              "    <tr>\n",
              "      <th>12</th>\n",
              "      <td>1.0</td>\n",
              "      <td>59000</td>\n",
              "      <td>5</td>\n",
              "    </tr>\n",
              "    <tr>\n",
              "      <th>15</th>\n",
              "      <td>1.0</td>\n",
              "      <td>25400</td>\n",
              "      <td>3</td>\n",
              "    </tr>\n",
              "  </tbody>\n",
              "</table>\n",
              "</div>"
            ],
            "text/plain": [
              "    const  Mileage  Age(yrs)\n",
              "14    1.0    82450         7\n",
              "5     1.0    59000         5\n",
              "17    1.0    69000         5\n",
              "7     1.0    72000         6\n",
              "3     1.0    22500         2\n",
              "0     1.0    69000         6\n",
              "10    1.0    83000         7\n",
              "2     1.0    57000         5\n",
              "16    1.0    28000         2\n",
              "19    1.0    52000         5\n",
              "6     1.0    52000         5\n",
              "11    1.0    79000         7\n",
              "12    1.0    59000         5\n",
              "15    1.0    25400         3"
            ]
          },
          "metadata": {},
          "execution_count": 10
        }
      ]
    },
    {
      "cell_type": "code",
      "metadata": {
        "colab": {
          "base_uri": "https://localhost:8080/",
          "height": 234
        },
        "id": "XQMcWC0ahJgh",
        "outputId": "c7cd0795-4dc1-4e99-de0a-0df83cec52a9"
      },
      "source": [
        "X_test"
      ],
      "execution_count": 11,
      "outputs": [
        {
          "output_type": "execute_result",
          "data": {
            "text/html": [
              "<div>\n",
              "<style scoped>\n",
              "    .dataframe tbody tr th:only-of-type {\n",
              "        vertical-align: middle;\n",
              "    }\n",
              "\n",
              "    .dataframe tbody tr th {\n",
              "        vertical-align: top;\n",
              "    }\n",
              "\n",
              "    .dataframe thead th {\n",
              "        text-align: right;\n",
              "    }\n",
              "</style>\n",
              "<table border=\"1\" class=\"dataframe\">\n",
              "  <thead>\n",
              "    <tr style=\"text-align: right;\">\n",
              "      <th></th>\n",
              "      <th>const</th>\n",
              "      <th>Mileage</th>\n",
              "      <th>Age(yrs)</th>\n",
              "    </tr>\n",
              "  </thead>\n",
              "  <tbody>\n",
              "    <tr>\n",
              "      <th>8</th>\n",
              "      <td>1.0</td>\n",
              "      <td>91000</td>\n",
              "      <td>8</td>\n",
              "    </tr>\n",
              "    <tr>\n",
              "      <th>13</th>\n",
              "      <td>1.0</td>\n",
              "      <td>58780</td>\n",
              "      <td>4</td>\n",
              "    </tr>\n",
              "    <tr>\n",
              "      <th>9</th>\n",
              "      <td>1.0</td>\n",
              "      <td>67000</td>\n",
              "      <td>6</td>\n",
              "    </tr>\n",
              "    <tr>\n",
              "      <th>4</th>\n",
              "      <td>1.0</td>\n",
              "      <td>46000</td>\n",
              "      <td>4</td>\n",
              "    </tr>\n",
              "    <tr>\n",
              "      <th>18</th>\n",
              "      <td>1.0</td>\n",
              "      <td>87600</td>\n",
              "      <td>8</td>\n",
              "    </tr>\n",
              "    <tr>\n",
              "      <th>1</th>\n",
              "      <td>1.0</td>\n",
              "      <td>35000</td>\n",
              "      <td>3</td>\n",
              "    </tr>\n",
              "  </tbody>\n",
              "</table>\n",
              "</div>"
            ],
            "text/plain": [
              "    const  Mileage  Age(yrs)\n",
              "8     1.0    91000         8\n",
              "13    1.0    58780         4\n",
              "9     1.0    67000         6\n",
              "4     1.0    46000         4\n",
              "18    1.0    87600         8\n",
              "1     1.0    35000         3"
            ]
          },
          "metadata": {},
          "execution_count": 11
        }
      ]
    },
    {
      "cell_type": "code",
      "metadata": {
        "colab": {
          "base_uri": "https://localhost:8080/"
        },
        "id": "jmwGE7C5hJgh",
        "outputId": "696ada19-0b78-4c71-8cbc-8069837afc72"
      },
      "source": [
        "y_train"
      ],
      "execution_count": 12,
      "outputs": [
        {
          "output_type": "execute_result",
          "data": {
            "text/plain": [
              "14    19400\n",
              "5     26750\n",
              "17    19700\n",
              "7     19300\n",
              "3     40000\n",
              "0     18000\n",
              "10    18700\n",
              "2     26100\n",
              "16    35500\n",
              "19    28200\n",
              "6     32000\n",
              "11    19500\n",
              "12    26000\n",
              "15    35000\n",
              "Name: Sell Price($), dtype: int64"
            ]
          },
          "metadata": {},
          "execution_count": 12
        }
      ]
    },
    {
      "cell_type": "code",
      "metadata": {
        "colab": {
          "base_uri": "https://localhost:8080/"
        },
        "id": "Uj43bJ1MhJgi",
        "outputId": "7cb743c5-f054-43c6-c4df-81acec802ef1"
      },
      "source": [
        "y_test"
      ],
      "execution_count": 13,
      "outputs": [
        {
          "output_type": "execute_result",
          "data": {
            "text/plain": [
              "8     12000\n",
              "13    27500\n",
              "9     22000\n",
              "4     31500\n",
              "18    12800\n",
              "1     34000\n",
              "Name: Sell Price($), dtype: int64"
            ]
          },
          "metadata": {},
          "execution_count": 13
        }
      ]
    },
    {
      "cell_type": "markdown",
      "metadata": {
        "id": "9wTeP0HphJgi"
      },
      "source": [
        "**Lets run linear regression model now**"
      ]
    },
    {
      "cell_type": "code",
      "metadata": {
        "colab": {
          "base_uri": "https://localhost:8080/"
        },
        "id": "E_tLoHd7hXIi",
        "outputId": "4adf1c60-f5ad-4d1f-a383-e0bb3931dd40"
      },
      "source": [
        "from sklearn.linear_model import LinearRegression\n",
        "clf = LinearRegression()\n",
        "clf.fit(X_train, y_train)"
      ],
      "execution_count": 14,
      "outputs": [
        {
          "output_type": "execute_result",
          "data": {
            "text/plain": [
              "LinearRegression(copy_X=True, fit_intercept=True, n_jobs=None, normalize=False)"
            ]
          },
          "metadata": {},
          "execution_count": 14
        }
      ]
    },
    {
      "cell_type": "code",
      "metadata": {
        "colab": {
          "base_uri": "https://localhost:8080/",
          "height": 363
        },
        "id": "IL_01ZvgmlkF",
        "outputId": "e7923ab6-0453-4f38-f943-5c3cd5d0816c"
      },
      "source": [
        "model_1 = sm.OLS(y_train, X_train).fit()\n",
        "model_1.summary2()"
      ],
      "execution_count": 15,
      "outputs": [
        {
          "output_type": "stream",
          "name": "stderr",
          "text": [
            "/usr/local/lib/python3.7/dist-packages/scipy/stats/stats.py:1535: UserWarning: kurtosistest only valid for n>=20 ... continuing anyway, n=14\n",
            "  \"anyway, n=%i\" % int(n))\n"
          ]
        },
        {
          "output_type": "execute_result",
          "data": {
            "text/html": [
              "<table class=\"simpletable\">\n",
              "<tr>\n",
              "        <td>Model:</td>               <td>OLS</td>         <td>Adj. R-squared:</td>      <td>0.907</td>  \n",
              "</tr>\n",
              "<tr>\n",
              "  <td>Dependent Variable:</td>   <td>Sell Price($)</td>         <td>AIC:</td>          <td>258.2323</td> \n",
              "</tr>\n",
              "<tr>\n",
              "         <td>Date:</td>        <td>2021-10-18 19:16</td>        <td>BIC:</td>          <td>260.1495</td> \n",
              "</tr>\n",
              "<tr>\n",
              "   <td>No. Observations:</td>         <td>14</td>          <td>Log-Likelihood:</td>     <td>-126.12</td> \n",
              "</tr>\n",
              "<tr>\n",
              "       <td>Df Model:</td>              <td>2</td>           <td>F-statistic:</td>        <td>64.49</td>  \n",
              "</tr>\n",
              "<tr>\n",
              "     <td>Df Residuals:</td>           <td>11</td>        <td>Prob (F-statistic):</td>  <td>8.40e-07</td> \n",
              "</tr>\n",
              "<tr>\n",
              "      <td>R-squared:</td>            <td>0.921</td>            <td>Scale:</td>        <td>4.9747e+06</td>\n",
              "</tr>\n",
              "</table>\n",
              "<table class=\"simpletable\">\n",
              "<tr>\n",
              "      <td></td>        <th>Coef.</th>   <th>Std.Err.</th>     <th>t</th>     <th>P>|t|</th>   <th>[0.025</th>     <th>0.975]</th>  \n",
              "</tr>\n",
              "<tr>\n",
              "  <th>const</th>    <td>45296.4781</td> <td>1961.8042</td> <td>23.0892</td> <td>0.0000</td> <td>40978.5762</td> <td>49614.3800</td>\n",
              "</tr>\n",
              "<tr>\n",
              "  <th>Mileage</th>    <td>-0.4526</td>   <td>0.1246</td>   <td>-3.6319</td> <td>0.0039</td>   <td>-0.7268</td>    <td>-0.1783</td> \n",
              "</tr>\n",
              "<tr>\n",
              "  <th>Age(yrs)</th>  <td>1375.5387</td> <td>1526.0686</td> <td>0.9014</td>  <td>0.3867</td> <td>-1983.3157</td>  <td>4734.3931</td>\n",
              "</tr>\n",
              "</table>\n",
              "<table class=\"simpletable\">\n",
              "<tr>\n",
              "     <td>Omnibus:</td>     <td>1.190</td>  <td>Durbin-Watson:</td>    <td>2.443</td>\n",
              "</tr>\n",
              "<tr>\n",
              "  <td>Prob(Omnibus):</td>  <td>0.551</td> <td>Jarque-Bera (JB):</td>  <td>0.617</td>\n",
              "</tr>\n",
              "<tr>\n",
              "       <td>Skew:</td>     <td>-0.503</td>     <td>Prob(JB):</td>      <td>0.735</td>\n",
              "</tr>\n",
              "<tr>\n",
              "     <td>Kurtosis:</td>    <td>2.791</td>  <td>Condition No.:</td>   <td>213143</td>\n",
              "</tr>\n",
              "</table>"
            ],
            "text/plain": [
              "<class 'statsmodels.iolib.summary2.Summary'>\n",
              "\"\"\"\n",
              "                  Results: Ordinary least squares\n",
              "===================================================================\n",
              "Model:              OLS              Adj. R-squared:     0.907     \n",
              "Dependent Variable: Sell Price($)    AIC:                258.2323  \n",
              "Date:               2021-10-18 19:16 BIC:                260.1495  \n",
              "No. Observations:   14               Log-Likelihood:     -126.12   \n",
              "Df Model:           2                F-statistic:        64.49     \n",
              "Df Residuals:       11               Prob (F-statistic): 8.40e-07  \n",
              "R-squared:          0.921            Scale:              4.9747e+06\n",
              "-------------------------------------------------------------------\n",
              "            Coef.     Std.Err.    t    P>|t|    [0.025     0.975]  \n",
              "-------------------------------------------------------------------\n",
              "const     45296.4781 1961.8042 23.0892 0.0000 40978.5762 49614.3800\n",
              "Mileage      -0.4526    0.1246 -3.6319 0.0039    -0.7268    -0.1783\n",
              "Age(yrs)   1375.5387 1526.0686  0.9014 0.3867 -1983.3157  4734.3931\n",
              "-------------------------------------------------------------------\n",
              "Omnibus:              1.190         Durbin-Watson:           2.443 \n",
              "Prob(Omnibus):        0.551         Jarque-Bera (JB):        0.617 \n",
              "Skew:                 -0.503        Prob(JB):                0.735 \n",
              "Kurtosis:             2.791         Condition No.:           213143\n",
              "===================================================================\n",
              "* The condition number is large (2e+05). This might indicate\n",
              "strong multicollinearity or other numerical problems.\n",
              "\"\"\""
            ]
          },
          "metadata": {},
          "execution_count": 15
        }
      ]
    },
    {
      "cell_type": "code",
      "metadata": {
        "scrolled": true,
        "colab": {
          "base_uri": "https://localhost:8080/"
        },
        "id": "wIRdX10-hJgj",
        "outputId": "0098982f-34e1-4192-a3ee-9a53bc936646"
      },
      "source": [
        "clf.predict(X_test)"
      ],
      "execution_count": 16,
      "outputs": [
        {
          "output_type": "execute_result",
          "data": {
            "text/plain": [
              "array([15116.81955966, 24196.5048683 , 23227.44804622, 29980.36328859,\n",
              "       16655.56123642, 33583.10645047])"
            ]
          },
          "metadata": {},
          "execution_count": 16
        }
      ]
    },
    {
      "cell_type": "code",
      "metadata": {
        "colab": {
          "base_uri": "https://localhost:8080/"
        },
        "id": "UYBUrsx9hJgj",
        "outputId": "3cda0ebc-aa58-4d5d-934f-bad81b31e357"
      },
      "source": [
        "y_test"
      ],
      "execution_count": 17,
      "outputs": [
        {
          "output_type": "execute_result",
          "data": {
            "text/plain": [
              "8     12000\n",
              "13    27500\n",
              "9     22000\n",
              "4     31500\n",
              "18    12800\n",
              "1     34000\n",
              "Name: Sell Price($), dtype: int64"
            ]
          },
          "metadata": {},
          "execution_count": 17
        }
      ]
    },
    {
      "cell_type": "code",
      "metadata": {
        "colab": {
          "base_uri": "https://localhost:8080/"
        },
        "id": "byjKlPtyhJgj",
        "outputId": "c6c7ac31-973d-4ba5-d6b6-c6f504a02cc9"
      },
      "source": [
        "clf.score(X_test, y_test)"
      ],
      "execution_count": 18,
      "outputs": [
        {
          "output_type": "execute_result",
          "data": {
            "text/plain": [
              "0.910062138102758"
            ]
          },
          "metadata": {},
          "execution_count": 18
        }
      ]
    },
    {
      "cell_type": "markdown",
      "metadata": {
        "id": "v1zSSuERhJgk"
      },
      "source": [
        "**random_state argument**"
      ]
    },
    {
      "cell_type": "code",
      "metadata": {
        "scrolled": true,
        "colab": {
          "base_uri": "https://localhost:8080/",
          "height": 234
        },
        "id": "JoYzmlCLhJgk",
        "outputId": "45f9b66a-7ec1-483a-cf5e-ca3ed5d9dbe9"
      },
      "source": [
        "X_train, X_test, y_train, y_test = train_test_split(X,y,test_size=0.3,random_state=10)\n",
        "X_test"
      ],
      "execution_count": 19,
      "outputs": [
        {
          "output_type": "execute_result",
          "data": {
            "text/html": [
              "<div>\n",
              "<style scoped>\n",
              "    .dataframe tbody tr th:only-of-type {\n",
              "        vertical-align: middle;\n",
              "    }\n",
              "\n",
              "    .dataframe tbody tr th {\n",
              "        vertical-align: top;\n",
              "    }\n",
              "\n",
              "    .dataframe thead th {\n",
              "        text-align: right;\n",
              "    }\n",
              "</style>\n",
              "<table border=\"1\" class=\"dataframe\">\n",
              "  <thead>\n",
              "    <tr style=\"text-align: right;\">\n",
              "      <th></th>\n",
              "      <th>const</th>\n",
              "      <th>Mileage</th>\n",
              "      <th>Age(yrs)</th>\n",
              "    </tr>\n",
              "  </thead>\n",
              "  <tbody>\n",
              "    <tr>\n",
              "      <th>7</th>\n",
              "      <td>1.0</td>\n",
              "      <td>72000</td>\n",
              "      <td>6</td>\n",
              "    </tr>\n",
              "    <tr>\n",
              "      <th>10</th>\n",
              "      <td>1.0</td>\n",
              "      <td>83000</td>\n",
              "      <td>7</td>\n",
              "    </tr>\n",
              "    <tr>\n",
              "      <th>5</th>\n",
              "      <td>1.0</td>\n",
              "      <td>59000</td>\n",
              "      <td>5</td>\n",
              "    </tr>\n",
              "    <tr>\n",
              "      <th>6</th>\n",
              "      <td>1.0</td>\n",
              "      <td>52000</td>\n",
              "      <td>5</td>\n",
              "    </tr>\n",
              "    <tr>\n",
              "      <th>3</th>\n",
              "      <td>1.0</td>\n",
              "      <td>22500</td>\n",
              "      <td>2</td>\n",
              "    </tr>\n",
              "    <tr>\n",
              "      <th>18</th>\n",
              "      <td>1.0</td>\n",
              "      <td>87600</td>\n",
              "      <td>8</td>\n",
              "    </tr>\n",
              "  </tbody>\n",
              "</table>\n",
              "</div>"
            ],
            "text/plain": [
              "    const  Mileage  Age(yrs)\n",
              "7     1.0    72000         6\n",
              "10    1.0    83000         7\n",
              "5     1.0    59000         5\n",
              "6     1.0    52000         5\n",
              "3     1.0    22500         2\n",
              "18    1.0    87600         8"
            ]
          },
          "metadata": {},
          "execution_count": 19
        }
      ]
    },
    {
      "cell_type": "markdown",
      "metadata": {
        "id": "KIlTqOKd25qL"
      },
      "source": [
        "P-P Plot"
      ]
    },
    {
      "cell_type": "code",
      "metadata": {
        "colab": {
          "base_uri": "https://localhost:8080/",
          "height": 313
        },
        "id": "7w89kVvn26wz",
        "outputId": "567de94f-1a56-4fe0-e93b-be8ee7c3983a"
      },
      "source": [
        "def draw_pp_plot( model, title ):\n",
        "  probplot = sm.ProbPlot( model.resid );\n",
        "  plt.figure( figsize = (8, 6) );\n",
        "  probplot.ppplot( line='45' );\n",
        "  plt.title( title );\n",
        "  plt.show();\n",
        "draw_pp_plot( model_1,\n",
        "            \"Figure 4.6 - Normal P-P Plot of Regression Standardized Residuals\"\n",
        ");"
      ],
      "execution_count": 20,
      "outputs": [
        {
          "output_type": "display_data",
          "data": {
            "text/plain": [
              "<Figure size 576x432 with 0 Axes>"
            ]
          },
          "metadata": {}
        },
        {
          "output_type": "display_data",
          "data": {
            "image/png": "[encoded data removed]",
            "text/plain": [
              "<Figure size 432x288 with 1 Axes>"
            ]
          },
          "metadata": {
            "needs_background": "light"
          }
        }
      ]
    },
    {
      "cell_type": "markdown",
      "metadata": {
        "id": "q0Rynj3w3h_O"
      },
      "source": [
        " Residual Plot"
      ]
    }
  ]
}